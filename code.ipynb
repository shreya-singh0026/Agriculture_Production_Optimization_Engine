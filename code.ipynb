{
 "cells": [
  {
   "cell_type": "code",
   "execution_count": 1,
   "metadata": {},
   "outputs": [],
   "source": [
    "#for manipulaton\n",
    "import numpy as np\n",
    "import pandas as pd\n",
    "\n",
    "#for data visualization\n",
    "import matplotlib.pyplot as plt\n",
    "import seaborn as sns\n",
    "\n",
    "#for interactivity\n",
    "from ipywidgets import interact"
   ]
  },
  {
   "cell_type": "code",
   "execution_count": 2,
   "metadata": {},
   "outputs": [],
   "source": [
    "#let's read the dataset\n",
    "data= pd.read_csv('data.csv')"
   ]
  },
  {
   "cell_type": "code",
   "execution_count": 3,
   "metadata": {},
   "outputs": [
    {
     "name": "stdout",
     "output_type": "stream",
     "text": [
      "shape of the Dataset: (2200, 8)\n"
     ]
    }
   ],
   "source": [
    "#let's check the shape of the dataset\n",
    "print(\"shape of the Dataset:\" ,data.shape)"
   ]
  },
  {
   "cell_type": "code",
   "execution_count": 4,
   "metadata": {},
   "outputs": [
    {
     "data": {
      "text/html": [
       "<div>\n",
       "<style scoped>\n",
       "    .dataframe tbody tr th:only-of-type {\n",
       "        vertical-align: middle;\n",
       "    }\n",
       "\n",
       "    .dataframe tbody tr th {\n",
       "        vertical-align: top;\n",
       "    }\n",
       "\n",
       "    .dataframe thead th {\n",
       "        text-align: right;\n",
       "    }\n",
       "</style>\n",
       "<table border=\"1\" class=\"dataframe\">\n",
       "  <thead>\n",
       "    <tr style=\"text-align: right;\">\n",
       "      <th></th>\n",
       "      <th>N</th>\n",
       "      <th>P</th>\n",
       "      <th>K</th>\n",
       "      <th>temperature</th>\n",
       "      <th>humidity</th>\n",
       "      <th>ph</th>\n",
       "      <th>rainfall</th>\n",
       "      <th>label</th>\n",
       "    </tr>\n",
       "  </thead>\n",
       "  <tbody>\n",
       "    <tr>\n",
       "      <th>0</th>\n",
       "      <td>90</td>\n",
       "      <td>42</td>\n",
       "      <td>43</td>\n",
       "      <td>20.879744</td>\n",
       "      <td>82.002744</td>\n",
       "      <td>6.502985</td>\n",
       "      <td>202.935536</td>\n",
       "      <td>rice</td>\n",
       "    </tr>\n",
       "    <tr>\n",
       "      <th>1</th>\n",
       "      <td>85</td>\n",
       "      <td>58</td>\n",
       "      <td>41</td>\n",
       "      <td>21.770462</td>\n",
       "      <td>80.319644</td>\n",
       "      <td>7.038096</td>\n",
       "      <td>226.655537</td>\n",
       "      <td>rice</td>\n",
       "    </tr>\n",
       "    <tr>\n",
       "      <th>2</th>\n",
       "      <td>60</td>\n",
       "      <td>55</td>\n",
       "      <td>44</td>\n",
       "      <td>23.004459</td>\n",
       "      <td>82.320763</td>\n",
       "      <td>7.840207</td>\n",
       "      <td>263.964248</td>\n",
       "      <td>rice</td>\n",
       "    </tr>\n",
       "    <tr>\n",
       "      <th>3</th>\n",
       "      <td>74</td>\n",
       "      <td>35</td>\n",
       "      <td>40</td>\n",
       "      <td>26.491096</td>\n",
       "      <td>80.158363</td>\n",
       "      <td>6.980401</td>\n",
       "      <td>242.864034</td>\n",
       "      <td>rice</td>\n",
       "    </tr>\n",
       "    <tr>\n",
       "      <th>4</th>\n",
       "      <td>78</td>\n",
       "      <td>42</td>\n",
       "      <td>42</td>\n",
       "      <td>20.130175</td>\n",
       "      <td>81.604873</td>\n",
       "      <td>7.628473</td>\n",
       "      <td>262.717340</td>\n",
       "      <td>rice</td>\n",
       "    </tr>\n",
       "  </tbody>\n",
       "</table>\n",
       "</div>"
      ],
      "text/plain": [
       "    N   P   K  temperature   humidity        ph    rainfall label\n",
       "0  90  42  43    20.879744  82.002744  6.502985  202.935536  rice\n",
       "1  85  58  41    21.770462  80.319644  7.038096  226.655537  rice\n",
       "2  60  55  44    23.004459  82.320763  7.840207  263.964248  rice\n",
       "3  74  35  40    26.491096  80.158363  6.980401  242.864034  rice\n",
       "4  78  42  42    20.130175  81.604873  7.628473  262.717340  rice"
      ]
     },
     "execution_count": 4,
     "metadata": {},
     "output_type": "execute_result"
    }
   ],
   "source": [
    "#let's check the head of the dataset\n",
    "data.head()"
   ]
  },
  {
   "cell_type": "code",
   "execution_count": 5,
   "metadata": {},
   "outputs": [
    {
     "data": {
      "text/plain": [
       "N              0\n",
       "P              0\n",
       "K              0\n",
       "temperature    0\n",
       "humidity       0\n",
       "ph             0\n",
       "rainfall       0\n",
       "label          0\n",
       "dtype: int64"
      ]
     },
     "execution_count": 5,
     "metadata": {},
     "output_type": "execute_result"
    }
   ],
   "source": [
    "#let's check if there is any missing value in the dataset\n",
    "data.isnull().sum()"
   ]
  },
  {
   "cell_type": "code",
   "execution_count": 6,
   "metadata": {},
   "outputs": [
    {
     "data": {
      "text/plain": [
       "coffee         100\n",
       "blackgram      100\n",
       "banana         100\n",
       "rice           100\n",
       "mungbean       100\n",
       "mango          100\n",
       "kidneybeans    100\n",
       "lentil         100\n",
       "watermelon     100\n",
       "pomegranate    100\n",
       "grapes         100\n",
       "pigeonpeas     100\n",
       "coconut        100\n",
       "maize          100\n",
       "apple          100\n",
       "jute           100\n",
       "chickpea       100\n",
       "muskmelon      100\n",
       "papaya         100\n",
       "orange         100\n",
       "mothbeans      100\n",
       "cotton         100\n",
       "Name: label, dtype: int64"
      ]
     },
     "execution_count": 6,
     "metadata": {},
     "output_type": "execute_result"
    }
   ],
   "source": [
    "#let's check the crop present in the dataset\n",
    "data['label'].value_counts()"
   ]
  },
  {
   "cell_type": "code",
   "execution_count": 7,
   "metadata": {},
   "outputs": [
    {
     "data": {
      "text/plain": [
       "coffee         100\n",
       "blackgram      100\n",
       "banana         100\n",
       "rice           100\n",
       "mungbean       100\n",
       "mango          100\n",
       "kidneybeans    100\n",
       "lentil         100\n",
       "watermelon     100\n",
       "pomegranate    100\n",
       "grapes         100\n",
       "pigeonpeas     100\n",
       "coconut        100\n",
       "maize          100\n",
       "apple          100\n",
       "jute           100\n",
       "chickpea       100\n",
       "muskmelon      100\n",
       "papaya         100\n",
       "orange         100\n",
       "mothbeans      100\n",
       "cotton         100\n",
       "Name: label, dtype: int64"
      ]
     },
     "execution_count": 7,
     "metadata": {},
     "output_type": "execute_result"
    }
   ],
   "source": [
    "#let's check the crop present in the dataset\n",
    "data['label'].value_counts()"
   ]
  },
  {
   "cell_type": "code",
   "execution_count": 8,
   "metadata": {},
   "outputs": [
    {
     "name": "stdout",
     "output_type": "stream",
     "text": [
      "The ratio of Nitrogen in the soil:50.55\n",
      "The ratio of Phosphorous in the soil:53.36\n",
      "The ratio of Potassium in the soil:48.15\n",
      "Average tempreature in celsius:25.62\n",
      "Average relative Humidity in %:71.48\n",
      "Average PH value of soil:6.47\n",
      "Average rainfall in mm:103.46\n"
     ]
    }
   ],
   "source": [
    "#let's check the summary for all the crops\n",
    "print(\"The ratio of Nitrogen in the soil:{0:.2f}\".format (data['N'].mean()) )\n",
    "print(\"The ratio of Phosphorous in the soil:{0:.2f}\".format(data['P'].mean()))\n",
    "print(\"The ratio of Potassium in the soil:{0:.2f}\".format(data['K'].mean()))\n",
    "print(\"Average tempreature in celsius:{0:.2f}\".format(data['temperature'].mean()))\n",
    "print(\"Average relative Humidity in %:{0:.2f}\".format(data['humidity'].mean()))\n",
    "print(\"Average PH value of soil:{0:.2f}\".format(data['ph'].mean()))\n",
    "print(\"Average rainfall in mm:{0:.2f}\".format(data['rainfall'].mean()))"
   ]
  },
  {
   "cell_type": "code",
   "execution_count": 9,
   "metadata": {},
   "outputs": [
    {
     "name": "stdout",
     "output_type": "stream",
     "text": [
      "The ratio of Nitrogen in the soil:50.55\n",
      "The ratio of Phosphorous in the soil:53.36\n",
      "The ratio of Potassium in the soil:48.15\n",
      "Average tempreature in celsius:25.62\n",
      "Average relative Humidity in %:71.48\n",
      "Average PH value of soil:6.47\n",
      "Average rainfall in mm:103.46\n"
     ]
    }
   ],
   "source": [
    "#let's check the summary for all the crops\n",
    "print(\"The ratio of Nitrogen in the soil:{0:.2f}\".format (data['N'].mean()) )\n",
    "print(\"The ratio of Phosphorous in the soil:{0:.2f}\".format(data['P'].mean()))\n",
    "print(\"The ratio of Potassium in the soil:{0:.2f}\".format(data['K'].mean()))\n",
    "print(\"Average tempreature in celsius:{0:.2f}\".format(data['temperature'].mean()))\n",
    "print(\"Average relative Humidity in %:{0:.2f}\".format(data['humidity'].mean()))\n",
    "print(\"Average PH value of soil:{0:.2f}\".format(data['ph'].mean()))\n",
    "print(\"Average rainfall in mm:{0:.2f}\".format(data['rainfall'].mean()))"
   ]
  },
  {
   "cell_type": "code",
   "execution_count": 44,
   "metadata": {},
   "outputs": [
    {
     "data": {
      "application/vnd.jupyter.widget-view+json": {
       "model_id": "1f6b47d95adc4c9aba2be71ba76c5d85",
       "version_major": 2,
       "version_minor": 0
      },
      "text/plain": [
       "interactive(children=(Dropdown(description='crops', options=('coffee', 'blackgram', 'banana', 'rice', 'mungbea…"
      ]
     },
     "metadata": {},
     "output_type": "display_data"
    }
   ],
   "source": [
    "#let's check the summatry for each of the crops\n",
    "\n",
    "@interact\n",
    "def summary(crops= list(data['label'].value_counts().index)):\n",
    "    x = data[data['label']==crops]\n",
    "    print(\"------------------------------------------------------\")\n",
    "    print(\"Statistic for Nitrogen\")\n",
    "    print(\"minimum Nitrogen required: \",x['N'].min())\n",
    "    print(\"Average Nitrogen required: \",x['N'].mean())\n",
    "    print(\"maximum Nitrogen required: \",x['N'].max())\n",
    "    print(\"------------------------------------------------------\")\n",
    "    print(\"Statistic for Phosphorous\")\n",
    "    print(\"minimum  Phosphorous required: \",x['P'].min())\n",
    "    print(\"Average  Phosphorous required: \",x['P'].mean())\n",
    "    print(\"maximum  Phosphorous required: \",x['P'].max())\n",
    "    print(\"------------------------------------------------------\")\n",
    "    print(\"Statistic for Temperature\")\n",
    "    print(\"Minimum Temperature require : {0:.2f}\".format(x['temperature'].min()))\n",
    "    print(\"Average Temperature required:{0:.2f}\" .format(x['temperature'].mean()))\n",
    "    print(\"Maximum Temperature required:{0:.2f}\" .format(x['temperature'].max()))\n",
    "    print(\"------------------------------------------------------\")\n",
    "    print(\"Statistic for Humidity\")\n",
    "    print(\"Minimum Humidity required : {0:.2f}\".format(x['humidity'].min()))\n",
    "    print(\"Average Humidity required:{0:.2f}\" .format(x['humidity'].mean()))\n",
    "    print(\"Maximum Humidity required:{0:.2f}\" .format(x['humidity'].max()))\n",
    "    print(\"------------------------------------------------------\")\n",
    "    print(\"Statistic for PH\")\n",
    "    print(\"Minimum PH required: {0:.2f}\".format(x['ph'].min()))\n",
    "    print(\"Average PH required: {0:.2f}\".format(x['ph'].mean()))\n",
    "    print(\"Maximum PH required: {0:.2f}\".format(x['ph'].max()))\n",
    "    print(\"------------------------------------------------------\")\n",
    "    print(\"Statistic for Rainfall\")\n",
    "\n",
    "    print(\"Minimum Ranifall required :{0:.2f}\".format(x['rainfall'].min()))\n",
    "    print(\"Average Ranifall required :{0:.2f}\".format(x['rainfall'].mean()))\n",
    "    print(\"Maximum Ranifall required :{0:.2f}\".format(x['rainfall'].max()))"
   ]
  },
  {
   "cell_type": "code",
   "execution_count": 45,
   "metadata": {},
   "outputs": [
    {
     "data": {
      "application/vnd.jupyter.widget-view+json": {
       "model_id": "2490bf4bc30e407c834765e4ce7eb0f3",
       "version_major": 2,
       "version_minor": 0
      },
      "text/plain": [
       "interactive(children=(Dropdown(description='crops', options=('coffee', 'blackgram', 'banana', 'rice', 'mungbea…"
      ]
     },
     "metadata": {},
     "output_type": "display_data"
    }
   ],
   "source": [
    "###Let's check the summary for each of the crops\n",
    "@interact\n",
    "def summary(crops=list(data['label'].value_counts().index)):\n",
    "    x=data[data['label']==crops]\n",
    "    print(\"................................................................\")\n",
    "    print(\"Statistic for Nitrogen\")\n",
    "    print(\"minimum Nitrogen required: \",x['N'].min())\n",
    "    print(\"Average Nitrogen required: \",x['N'].mean())\n",
    "    print(\"maximum Nitrogen required: \",x['N'].max())\n",
    "    print(\"................................................................\")\n",
    "    print(\"Statistic for Phosphorous\")\n",
    "    print(\"minimum  Phosphorous required: \",x['P'].min())\n",
    "    print(\"Average  Phosphorous required: \",x['P'].mean())\n",
    "    print(\"maximum  Phosphorous required: \",x['P'].max())\n",
    "    print(\"................................................................\")\n",
    "    print(\"Statistic for Temperature\")\n",
    "    print(\"Minimum Temperature require : {0:.2f}\".format(x['temperature'].min()))\n",
    "    print(\"Average Temperature required:{0:.2f}\" .format(x['temperature'].mean()))\n",
    "    print(\"Maximum Temperature required:{0:.2f}\" .format(x['temperature'].max()))\n",
    "    print(\"................................................................\")\n",
    "    print(\"Statistic for Humidity\")\n",
    "    print(\"Minimum Humidity required: {0:.2f}\".format(x['humidity'].min()))\n",
    "    print(\"Average Humidity required: {0:.2f}\" .format(x['humidity'].mean()))\n",
    "    print(\"Maximum Humidity required: {0:.2f}\" .format(x['humidity'].max()))\n",
    "    print(\"................................................................\")\n",
    "    print(\"Statistic for PH\")\n",
    "    print(\"Minimum PH required:{0:.2f}\".format(x['ph'].min()))\n",
    "    print(\"Average PH required:{0:.2f}\".format(x['ph'].mean()))\n",
    "    print(\"Maximum PH required:{0:.2f}\".format(x['ph'].max()))\n",
    "    print(\".................................................................\")\n",
    "    print(\"Statistic for rainfall\")\n",
    "    print(\"Minimum rainfall required:{0:.2f}\".format(x['rainfall'].min()))\n",
    "    print(\"Average rainfall required:{0:.2f}\".format(x['rainfall'].mean()))\n",
    "    print(\"Maximum rainfall required:{0:.2f}\".format(x['rainfall'].max()))"
   ]
  },
  {
   "cell_type": "code",
   "execution_count": 46,
   "metadata": {},
   "outputs": [
    {
     "data": {
      "application/vnd.jupyter.widget-view+json": {
       "model_id": "d98b26dade6b4008b9f58d4d8797b676",
       "version_major": 2,
       "version_minor": 0
      },
      "text/plain": [
       "interactive(children=(Dropdown(description='crops', options=('coffee', 'blackgram', 'banana', 'rice', 'mungbea…"
      ]
     },
     "metadata": {},
     "output_type": "display_data"
    }
   ],
   "source": [
    "#let's check the summary for each of the crops\n",
    "@interact\n",
    "def summary(crops=list(data['label'].value_counts().index)):\n",
    "    x=data[data['label']==crops]\n",
    "    print(\"................................................................\")\n",
    "    print(\"Statistic for Nitrogen\")\n",
    "    print(\"minimum Nitrogen required: \",x['N'].min())\n",
    "    print(\"Average Nitrogen required: \",x['N'].mean())\n",
    "    print(\"maximum Nitrogen required: \",x['N'].max())\n",
    "    print(\"................................................................\")\n",
    "    print(\"Statistic for Phosphorous\")\n",
    "    print(\"minimum  Phosphorous required: \",x['P'].min())\n",
    "    print(\"Average  Phosphorous required: \",x['P'].mean())\n",
    "    print(\"maximum  Phosphorous required: \",x['P'].max())\n",
    "    print(\"................................................................\")\n",
    "    print(\"Statistic for Temperature\")\n",
    "    print(\"Minimum Temperature require : {0:.2f}\".format(x['temperature'].min()))\n",
    "    print(\"Average Temperature required:{0:.2f}\" .format(x['temperature'].mean()))\n",
    "    print(\"Maximum Temperature required:{0:.2f}\" .format(x['temperature'].max()))\n",
    "    print(\"................................................................\")\n",
    "    print(\"Statistic for Humidity\")\n",
    "    print(\"Minimum Humidity required: {0:.2f}\".format(x['humidity'].min()))\n",
    "    print(\"Average Humidity required: {0:.2f}\" .format(x['humidity'].mean()))\n",
    "    print(\"Maximum Humidity required: {0:.2f}\" .format(x['humidity'].max()))\n",
    "    print(\"................................................................\")\n",
    "    print(\"Statistic for PH\")\n",
    "    print(\"Minimum PH required:{0:.2f}\".format(x['ph'].min()))\n",
    "    print(\"Average PH required:{0:.2f}\".format(x['ph'].mean()))\n",
    "    print(\"Maximum PH required:{0:.2f}\".format(x['ph'].max()))\n",
    "    print(\".................................................................\")\n",
    "    print(\"Statistic for rainfall\")\n",
    "    print(\"Minimum rainfall required:{0:.2f}\".format(x['rainfall'].min()))\n",
    "    print(\"Average rainfall required:{0:.2f}\".format(x['rainfall'].mean()))\n",
    "    print(\"Maximum rainfall required:{0:.2f}\".format(x['rainfall'].max()))"
   ]
  },
  {
   "cell_type": "code",
   "execution_count": 14,
   "metadata": {},
   "outputs": [
    {
     "data": {
      "application/vnd.jupyter.widget-view+json": {
       "model_id": "836bfe9b69e24092b2623a75cbbb7bdf",
       "version_major": 2,
       "version_minor": 0
      },
      "text/plain": [
       "interactive(children=(Dropdown(description='conditions', options=('N', 'P', 'K', 'temperature', 'ph', 'humidit…"
      ]
     },
     "metadata": {},
     "output_type": "display_data"
    }
   ],
   "source": [
    "#let's compare the average requirements for each crops with average conditions\n",
    "@interact\n",
    "def compare(conditions=['N','P','K','temperature','ph','humidity','rainfall']):\n",
    "    print(\"Average vlue for \",conditions,\"is{0:.2f}\".format(data[conditions].mean()))\n",
    "    print(\"..........................................................\")\n",
    "    print(\"Rice : {0:.2f}\".format(data[(data['label']== 'rice' )][conditions].mean()))\n",
    "    print(\"Black Grams : {0:.2f}\".format(data[(data['label']== 'blackgram' )][conditions].mean()))\n",
    "    print(\"Banana : {0:.2f}\".format(data[(data['label']== 'banana' )][conditions].mean()))\n",
    "    print(\"Jute : {0:.2f}\".format(data[(data['label']== 'jute' )][conditions].mean()))\n",
    "    print(\"Coconut : {0:.2f}\".format(data[(data['label']== 'coconut' )][conditions].mean()))\n",
    "    print(\"Apple : {0:.2f}\".format(data[(data['label']== 'apple' )][conditions].mean()))\n",
    "    print(\"Papaya : {0:.2f}\".format(data[(data['label']== 'papaya' )][conditions].mean()))\n",
    "    print(\"Muskmelon : {0:.2f}\".format(data[(data['label']== 'muskmelon' )][conditions].mean()))\n",
    "    print(\"Grapes : {0:.2f}\".format(data[(data['label']== 'grapes' )][conditions].mean()))\n",
    "    print(\"Watermelon : {0:.2f}\".format(data[(data['label']== 'watermelon' )][conditions].mean()))\n",
    "    print(\"Kidney Beans : {0:.2f}\".format(data[(data['label']== 'kidneybeans' )][conditions].mean()))\n",
    "    print(\"Mung Beans : {0:.2f}\".format(data[(data['label']== 'mungbeans' )][conditions].mean()))\n",
    "    print(\"Oranges : {0:.2f}\".format(data[(data['label']== 'oranges' )][conditions].mean()))\n",
    "    print(\"Chick Peas : {0:.2f}\".format(data[(data['label']== 'chickpea' )][conditions].mean()))\n",
    "    print(\"Lentils : {0:.2f}\".format(data[(data['label']== 'lentil' )][conditions].mean()))\n",
    "    print(\"Cotton : {0:.2f}\".format(data[(data['label']== 'cotton' )][conditions].mean()))\n",
    "    print(\"Maize : {0:.2f}\".format(data[(data['label']== 'maze' )][conditions].mean()))\n",
    "    print(\"Moth Beans : {0:.2f}\".format(data[(data['label']== 'mothbeans' )][conditions].mean()))\n",
    "    print(\"Pigeon Peas : {0:.2f}\".format(data[(data['label']== 'pigeonpeas' )][conditions].mean()))\n",
    "    print(\"Mango : {0:.2f}\".format(data[(data['label']== 'mango' )][conditions].mean()))\n",
    "    print(\"Pomegranate : {0:.2f}\".format(data[(data['label']== 'pomegranate' )][conditions].mean()))\n",
    "    print(\"Coffee : {0:.2f}\".format(data[(data['label']== 'coffee' )][conditions].mean()))"
   ]
  },
  {
   "cell_type": "code",
   "execution_count": 15,
   "metadata": {},
   "outputs": [
    {
     "data": {
      "application/vnd.jupyter.widget-view+json": {
       "model_id": "3f1d8d506d834947beacfbb8f55eaf96",
       "version_major": 2,
       "version_minor": 0
      },
      "text/plain": [
       "interactive(children=(Dropdown(description='conditions', options=('N', 'P', 'K', 'temperature', 'ph', 'humidit…"
      ]
     },
     "metadata": {},
     "output_type": "display_data"
    }
   ],
   "source": [
    "#let's make this function more intutive\n",
    "\n",
    "@interact\n",
    "def compare(conditions=['N','P','K','temperature','ph','humidity','rainfall']):\n",
    "    print(\"Crops which require greater than average\",conditions,'\\n')\n",
    "    print(data[data[conditions]>data[conditions].mean()]['label'].unique())\n",
    "    print(\"...............................................\")\n",
    "    print(\"Crops which requires less than average\",conditions,'\\n')\n",
    "    print(data[data[conditions]<=data[conditions].mean()]['label'].unique())"
   ]
  },
  {
   "cell_type": "code",
   "execution_count": 48,
   "metadata": {},
   "outputs": [
    {
     "data": {
      "image/png": "[encoded data removed]",
      "text/plain": [
       "<Figure size 1080x504 with 7 Axes>"
      ]
     },
     "metadata": {
      "needs_background": "light"
     },
     "output_type": "display_data"
    }
   ],
   "source": [
    "# DISTRIBUTION\n",
    "#let's check the distributions for Agricultural conditons\n",
    "plt.rcParams['figure.figsize']=(15,7)\n",
    "\n",
    "plt.subplot(2,4,1)\n",
    "sns.distplot(data['N'],color='lightgrey')\n",
    "plt.xlabel('Ratio of Nitrogen',fontsize=12)\n",
    "plt.grid()\n",
    "\n",
    "plt.subplot(2,4,2)\n",
    "sns.distplot(data['P'],color='skyblue')\n",
    "plt.xlabel('Ratio of Phosphorous',fontsize=12)\n",
    "plt.grid()\n",
    "\n",
    "plt.subplot(2,4,3)\n",
    "sns.distplot(data['K'],color='darkblue')\n",
    "plt.xlabel('Ratio of Potassium',fontsize=12)\n",
    "plt.grid()\n",
    "\n",
    "plt.subplot(2,4,4)\n",
    "sns.distplot(data['temperature'],color='red')\n",
    "plt.xlabel('Ratio of Temperature',fontsize=12)\n",
    "plt.grid()\n",
    "\n",
    "plt.subplot(2,4,5)\n",
    "sns.distplot(data['ph'],color='yellow')\n",
    "plt.xlabel('Ratio of PH',fontsize=12)\n",
    "plt.grid()\n",
    "\n",
    "plt.subplot(2,4,6)\n",
    "sns.distplot(data['humidity'],color='lightpink')\n",
    "plt.xlabel('Ratio of Humidity',fontsize=12)\n",
    "plt.grid()\n",
    "\n",
    "plt.subplot(2,4,7)\n",
    "sns.distplot(data['rainfall'],color='blue')\n",
    "plt.xlabel('Ratio of Rainfall',fontsize=12)\n",
    "plt.grid()"
   ]
  },
  {
   "cell_type": "code",
   "execution_count": 17,
   "metadata": {},
   "outputs": [
    {
     "name": "stdout",
     "output_type": "stream",
     "text": [
      "some interesting patterns in the soil\n",
      ".......................................\n",
      "Crops which requires very high ratio of Nitrogen content in soil: ['cotton']\n",
      "Crops which requires very high ratio of Phosphourous content in soil: ['grapes' 'apple']\n",
      "Crops which requires very high ratio of Potassium content in soil: ['grapes' 'apple']\n",
      "Crops which requires very high  Rainfall: ['rice' 'papaya' 'coconut']\n",
      "Crops which requires very Low  Temperature: ['grapes']\n",
      "Crops which requires very High  Temperature: ['grapes' 'papaya']\n",
      "Crops which requires very Low Humidity: ['chickpea' 'kidneybeans']\n",
      "Crops which requires very Low PH: ['mothbeans']\n",
      "Crops which requires very High PH: ['mothbeans']\n"
     ]
    }
   ],
   "source": [
    "#let's find out some interesting facts \n",
    "print(\"some interesting patterns in the soil\")\n",
    "print(\".......................................\")\n",
    "print(\"Crops which requires very high ratio of Nitrogen content in soil:\",data[data['N']>120]['label'].unique())\n",
    "print(\"Crops which requires very high ratio of Phosphourous content in soil:\",data[data['P']>100]['label'].unique())\n",
    "print(\"Crops which requires very high ratio of Potassium content in soil:\",data[data['K']>200]['label'].unique())\n",
    "print(\"Crops which requires very high  Rainfall:\",data[data['rainfall']>200]['label'].unique())\n",
    "print(\"Crops which requires very Low  Temperature:\",data[data['temperature']<10]['label'].unique())\n",
    "print(\"Crops which requires very High  Temperature:\",data[data['temperature']>40]['label'].unique())\n",
    "print(\"Crops which requires very Low Humidity:\",data[data['humidity']<20]['label'].unique())\n",
    "print(\"Crops which requires very Low PH:\",data[data['ph']<4]['label'].unique())\n",
    "print(\"Crops which requires very High PH:\",data[data['ph']>9]['label'].unique())"
   ]
  },
  {
   "cell_type": "code",
   "execution_count": 19,
   "metadata": {},
   "outputs": [
    {
     "name": "stdout",
     "output_type": "stream",
     "text": [
      "Summer crops\n",
      ".........................\n",
      "['pigeonpeas' 'mothbeans' 'blackgram' 'mango' 'grapes' 'orange' 'papaya']\n",
      "Winter crops\n",
      "['maize' 'pigeonpeas' 'lentil' 'pomegranate' 'grapes' 'orange']\n",
      "...........................\n",
      "Rainy crops\n",
      "['rice' 'papaya' 'coconut']\n"
     ]
    }
   ],
   "source": [
    "##let's us understand which crops to be grown in summer, winter and rainy season\n",
    "print(\"Summer crops\")\n",
    "print(\".........................\")\n",
    "print(data[(data['temperature']>30)& (data['humidity']>50)]['label'].unique())\n",
    "\n",
    "print(\"Winter crops\")\n",
    "print(data[(data['temperature']<20)& (data['humidity']>30)]['label'].unique())\n",
    "print(\"...........................\")\n",
    "print(\"Rainy crops\")\n",
    "print(data[(data['rainfall']>200)& (data['humidity']>30)]['label'].unique())"
   ]
  },
  {
   "cell_type": "code",
   "execution_count": 23,
   "metadata": {},
   "outputs": [
    {
     "name": "stdout",
     "output_type": "stream",
     "text": [
      ".................\n",
      "summer crops\n",
      "['pigeonpeas' 'mothbeans' 'blackgram' 'mango' 'grapes' 'orange' 'papaya']\n",
      "...............................\n",
      "winter crops \n",
      "['maize' 'pigeonpeas' 'lentil' 'pomegranate' 'grapes' 'orange']\n",
      "..................................\n",
      "rainy season crops\n",
      "['rice' 'papaya' 'coconut']\n"
     ]
    }
   ],
   "source": [
    "###let's us understand which crops to be grownn in which season\n",
    "print('.................')\n",
    "print(\"summer crops\")\n",
    "print(data[(data['temperature']>30)&(data['humidity']>50)]['label'].unique())\n",
    "print(\"...............................\")\n",
    "print(\"winter crops \")\n",
    "print(data[(data['temperature']<20)& (data['humidity']>30)]['label'].unique())\n",
    "print(\"..................................\")\n",
    "print(\"rainy season crops\")\n",
    "print(data[(data['rainfall']>200)& (data['humidity']>30)]['label'].unique())"
   ]
  },
  {
   "cell_type": "code",
   "execution_count": 25,
   "metadata": {},
   "outputs": [
    {
     "name": "stdout",
     "output_type": "stream",
     "text": [
      "(2200, 7)\n"
     ]
    },
    {
     "data": {
      "text/html": [
       "<div>\n",
       "<style scoped>\n",
       "    .dataframe tbody tr th:only-of-type {\n",
       "        vertical-align: middle;\n",
       "    }\n",
       "\n",
       "    .dataframe tbody tr th {\n",
       "        vertical-align: top;\n",
       "    }\n",
       "\n",
       "    .dataframe thead th {\n",
       "        text-align: right;\n",
       "    }\n",
       "</style>\n",
       "<table border=\"1\" class=\"dataframe\">\n",
       "  <thead>\n",
       "    <tr style=\"text-align: right;\">\n",
       "      <th></th>\n",
       "      <th>0</th>\n",
       "      <th>1</th>\n",
       "      <th>2</th>\n",
       "      <th>3</th>\n",
       "      <th>4</th>\n",
       "      <th>5</th>\n",
       "      <th>6</th>\n",
       "    </tr>\n",
       "  </thead>\n",
       "  <tbody>\n",
       "    <tr>\n",
       "      <th>0</th>\n",
       "      <td>90.0</td>\n",
       "      <td>42.0</td>\n",
       "      <td>43.0</td>\n",
       "      <td>20.879744</td>\n",
       "      <td>6.502985</td>\n",
       "      <td>82.002744</td>\n",
       "      <td>202.935536</td>\n",
       "    </tr>\n",
       "    <tr>\n",
       "      <th>1</th>\n",
       "      <td>85.0</td>\n",
       "      <td>58.0</td>\n",
       "      <td>41.0</td>\n",
       "      <td>21.770462</td>\n",
       "      <td>7.038096</td>\n",
       "      <td>80.319644</td>\n",
       "      <td>226.655537</td>\n",
       "    </tr>\n",
       "    <tr>\n",
       "      <th>2</th>\n",
       "      <td>60.0</td>\n",
       "      <td>55.0</td>\n",
       "      <td>44.0</td>\n",
       "      <td>23.004459</td>\n",
       "      <td>7.840207</td>\n",
       "      <td>82.320763</td>\n",
       "      <td>263.964248</td>\n",
       "    </tr>\n",
       "    <tr>\n",
       "      <th>3</th>\n",
       "      <td>74.0</td>\n",
       "      <td>35.0</td>\n",
       "      <td>40.0</td>\n",
       "      <td>26.491096</td>\n",
       "      <td>6.980401</td>\n",
       "      <td>80.158363</td>\n",
       "      <td>242.864034</td>\n",
       "    </tr>\n",
       "    <tr>\n",
       "      <th>4</th>\n",
       "      <td>78.0</td>\n",
       "      <td>42.0</td>\n",
       "      <td>42.0</td>\n",
       "      <td>20.130175</td>\n",
       "      <td>7.628473</td>\n",
       "      <td>81.604873</td>\n",
       "      <td>262.717340</td>\n",
       "    </tr>\n",
       "  </tbody>\n",
       "</table>\n",
       "</div>"
      ],
      "text/plain": [
       "      0     1     2          3         4          5           6\n",
       "0  90.0  42.0  43.0  20.879744  6.502985  82.002744  202.935536\n",
       "1  85.0  58.0  41.0  21.770462  7.038096  80.319644  226.655537\n",
       "2  60.0  55.0  44.0  23.004459  7.840207  82.320763  263.964248\n",
       "3  74.0  35.0  40.0  26.491096  6.980401  80.158363  242.864034\n",
       "4  78.0  42.0  42.0  20.130175  7.628473  81.604873  262.717340"
      ]
     },
     "execution_count": 25,
     "metadata": {},
     "output_type": "execute_result"
    }
   ],
   "source": [
    "###let's try to coluster these crops\n",
    "#let's import the warning library so that we can avoid warnings\n",
    "from sklearn.cluster import KMeans\n",
    "import warnings\n",
    "warnings.filterwarnings('ignore')\n",
    "#let's select the spending score, and Anual income column from the data\n",
    "x=data.loc[:,['N','P','K','temperature','ph','humidity','rainfall']].values\n",
    "\n",
    "#let's check the shape of x\n",
    "print(x.shape)\n",
    "\n",
    "#let's convert this data into data frame\n",
    "x_data =pd.DataFrame(x)\n",
    "x_data.head()"
   ]
  },
  {
   "cell_type": "code",
   "execution_count": 27,
   "metadata": {},
   "outputs": [
    {
     "data": {
      "image/png": "[encoded data removed]",
      "text/plain": [
       "<Figure size 720x288 with 1 Axes>"
      ]
     },
     "metadata": {
      "needs_background": "light"
     },
     "output_type": "display_data"
    }
   ],
   "source": [
    "##let's determine the optimum number of cluster in the dataset\n",
    "plt.rcParams['figure.figsize']=(10,4)\n",
    "\n",
    "wcss=[]\n",
    "for i in range(1,11):\n",
    "    km = KMeans(n_clusters = i, init = 'k-means++', max_iter = 300, n_init= 10, random_state = 0)\n",
    "    km.fit(x)\n",
    "    wcss.append(km.inertia_)\n",
    "    \n",
    "    ##let's plot the result\n",
    "plt.plot( wcss)\n",
    "plt.title('The Elbow Method', fontsize = 20)\n",
    "plt.xlabel('No of clusters')\n",
    "plt.ylabel('wcss')\n",
    "plt.show()"
   ]
  },
  {
   "cell_type": "code",
   "execution_count": 28,
   "metadata": {},
   "outputs": [
    {
     "name": "stdout",
     "output_type": "stream",
     "text": [
      "let's check the result after Applying KMeans clustering analysis \n",
      "\n",
      "crops in first cluster ['maize' 'mothbeans' 'mungbean' 'blackgram' 'lentil' 'papaya']\n",
      "...............................................................\n",
      "crops in second cluster ['rice' 'papaya' 'coconut' 'jute' 'coffee']\n",
      ".................................................................\n",
      "crops in third cluster ['grapes' 'apple']\n",
      "................................................................\n",
      "crops in fourth cluster ['watermelon' 'muskmelon' 'papaya']\n"
     ]
    }
   ],
   "source": [
    "##let's implement the K Means algrithm to perform clustering analysis\n",
    "\n",
    "km = KMeans(n_clusters = i, init = 'k-means++', max_iter = 300, n_init= 10, random_state = 0)\n",
    "y_means = km.fit_predict(x)\n",
    "\n",
    "##let's find out the result\n",
    "a = data['label']\n",
    "y_means = pd.DataFrame(y_means)\n",
    "z = pd.concat([y_means,a],axis = 1)\n",
    "z= z.rename(columns = {0: 'cluster'})\n",
    "\n",
    "##let's check the cluster for each crops\n",
    "print (\"let's check the result after Applying KMeans clustering analysis \\n\")\n",
    "print(\"crops in first cluster\", z[z['cluster']==0]['label'].unique())\n",
    "print(\"...............................................................\")\n",
    "print(\"crops in second cluster\", z[z['cluster']==1]['label'].unique())\n",
    "print(\".................................................................\")\n",
    "print(\"crops in third cluster\", z[z['cluster']==2]['label'].unique())\n",
    "print(\"................................................................\")\n",
    "print(\"crops in fourth cluster\", z[z['cluster']==3]['label'].unique())"
   ]
  },
  {
   "cell_type": "code",
   "execution_count": 29,
   "metadata": {},
   "outputs": [
    {
     "name": "stdout",
     "output_type": "stream",
     "text": [
      "Shape of x: (2200, 7)\n",
      "Shape of y: (2200,)\n"
     ]
    }
   ],
   "source": [
    "## let's split the dataset for Predictive modeling \n",
    "y = data['label']\n",
    "x = data.drop(['label'],axis = 1)\n",
    "\n",
    "print(\"Shape of x:\", x.shape)\n",
    "print(\"Shape of y:\", y.shape)"
   ]
  },
  {
   "cell_type": "code",
   "execution_count": 30,
   "metadata": {},
   "outputs": [
    {
     "name": "stdout",
     "output_type": "stream",
     "text": [
      "The Shape of x train: (1760, 7)\n",
      "The Shape of x test: (440, 7)\n",
      "The Shape of y train: (1760,)\n",
      "The Shape of y test: (440,)\n"
     ]
    }
   ],
   "source": [
    "## let's create the Training and Testing set for validation of result\n",
    "\n",
    "from sklearn.model_selection import train_test_split\n",
    "x_train,x_test,y_train, y_test = train_test_split(x,y, test_size = 0.2, random_state = 0 )\n",
    "print(\"The Shape of x train:\", x_train.shape)\n",
    "print(\"The Shape of x test:\", x_test.shape)\n",
    "print(\"The Shape of y train:\", y_train.shape)\n",
    "print(\"The Shape of y test:\", y_test.shape)"
   ]
  },
  {
   "cell_type": "code",
   "execution_count": 33,
   "metadata": {},
   "outputs": [],
   "source": [
    "## let's create the predictive model\n",
    "from sklearn.linear_model import LogisticRegression\n",
    "\n",
    "model = LogisticRegression()\n",
    "model.fit(x_train, y_train)\n",
    "y_pred = model.predict(x_test)"
   ]
  },
  {
   "cell_type": "code",
   "execution_count": 34,
   "metadata": {},
   "outputs": [
    {
     "name": "stdout",
     "output_type": "stream",
     "text": [
      "              precision    recall  f1-score   support\n",
      "\n",
      "       apple       1.00      1.00      1.00        18\n",
      "      banana       1.00      1.00      1.00        18\n",
      "   blackgram       0.86      0.82      0.84        22\n",
      "    chickpea       1.00      1.00      1.00        23\n",
      "     coconut       1.00      1.00      1.00        15\n",
      "      coffee       1.00      1.00      1.00        17\n",
      "      cotton       0.89      1.00      0.94        16\n",
      "      grapes       1.00      1.00      1.00        18\n",
      "        jute       0.84      1.00      0.91        21\n",
      " kidneybeans       1.00      1.00      1.00        20\n",
      "      lentil       0.94      0.94      0.94        17\n",
      "       maize       0.94      0.89      0.91        18\n",
      "       mango       1.00      1.00      1.00        21\n",
      "   mothbeans       0.88      0.92      0.90        25\n",
      "    mungbean       1.00      1.00      1.00        17\n",
      "   muskmelon       1.00      1.00      1.00        23\n",
      "      orange       1.00      1.00      1.00        23\n",
      "      papaya       1.00      0.95      0.98        21\n",
      "  pigeonpeas       1.00      1.00      1.00        22\n",
      " pomegranate       1.00      1.00      1.00        23\n",
      "        rice       1.00      0.84      0.91        25\n",
      "  watermelon       1.00      1.00      1.00        17\n",
      "\n",
      "    accuracy                           0.97       440\n",
      "   macro avg       0.97      0.97      0.97       440\n",
      "weighted avg       0.97      0.97      0.97       440\n",
      "\n"
     ]
    }
   ],
   "source": [
    "## let's evaluate the model performance\n",
    "from sklearn.metrics import classification_report\n",
    "\n",
    "# let's print the classification report also\n",
    "cr = classification_report(y_test, y_pred)\n",
    "print(cr)"
   ]
  },
  {
   "cell_type": "code",
   "execution_count": 35,
   "metadata": {},
   "outputs": [
    {
     "data": {
      "text/html": [
       "<div>\n",
       "<style scoped>\n",
       "    .dataframe tbody tr th:only-of-type {\n",
       "        vertical-align: middle;\n",
       "    }\n",
       "\n",
       "    .dataframe tbody tr th {\n",
       "        vertical-align: top;\n",
       "    }\n",
       "\n",
       "    .dataframe thead th {\n",
       "        text-align: right;\n",
       "    }\n",
       "</style>\n",
       "<table border=\"1\" class=\"dataframe\">\n",
       "  <thead>\n",
       "    <tr style=\"text-align: right;\">\n",
       "      <th></th>\n",
       "      <th>N</th>\n",
       "      <th>P</th>\n",
       "      <th>K</th>\n",
       "      <th>temperature</th>\n",
       "      <th>humidity</th>\n",
       "      <th>ph</th>\n",
       "      <th>rainfall</th>\n",
       "      <th>label</th>\n",
       "    </tr>\n",
       "  </thead>\n",
       "  <tbody>\n",
       "    <tr>\n",
       "      <th>0</th>\n",
       "      <td>90</td>\n",
       "      <td>42</td>\n",
       "      <td>43</td>\n",
       "      <td>20.879744</td>\n",
       "      <td>82.002744</td>\n",
       "      <td>6.502985</td>\n",
       "      <td>202.935536</td>\n",
       "      <td>rice</td>\n",
       "    </tr>\n",
       "    <tr>\n",
       "      <th>1</th>\n",
       "      <td>85</td>\n",
       "      <td>58</td>\n",
       "      <td>41</td>\n",
       "      <td>21.770462</td>\n",
       "      <td>80.319644</td>\n",
       "      <td>7.038096</td>\n",
       "      <td>226.655537</td>\n",
       "      <td>rice</td>\n",
       "    </tr>\n",
       "    <tr>\n",
       "      <th>2</th>\n",
       "      <td>60</td>\n",
       "      <td>55</td>\n",
       "      <td>44</td>\n",
       "      <td>23.004459</td>\n",
       "      <td>82.320763</td>\n",
       "      <td>7.840207</td>\n",
       "      <td>263.964248</td>\n",
       "      <td>rice</td>\n",
       "    </tr>\n",
       "    <tr>\n",
       "      <th>3</th>\n",
       "      <td>74</td>\n",
       "      <td>35</td>\n",
       "      <td>40</td>\n",
       "      <td>26.491096</td>\n",
       "      <td>80.158363</td>\n",
       "      <td>6.980401</td>\n",
       "      <td>242.864034</td>\n",
       "      <td>rice</td>\n",
       "    </tr>\n",
       "    <tr>\n",
       "      <th>4</th>\n",
       "      <td>78</td>\n",
       "      <td>42</td>\n",
       "      <td>42</td>\n",
       "      <td>20.130175</td>\n",
       "      <td>81.604873</td>\n",
       "      <td>7.628473</td>\n",
       "      <td>262.717340</td>\n",
       "      <td>rice</td>\n",
       "    </tr>\n",
       "  </tbody>\n",
       "</table>\n",
       "</div>"
      ],
      "text/plain": [
       "    N   P   K  temperature   humidity        ph    rainfall label\n",
       "0  90  42  43    20.879744  82.002744  6.502985  202.935536  rice\n",
       "1  85  58  41    21.770462  80.319644  7.038096  226.655537  rice\n",
       "2  60  55  44    23.004459  82.320763  7.840207  263.964248  rice\n",
       "3  74  35  40    26.491096  80.158363  6.980401  242.864034  rice\n",
       "4  78  42  42    20.130175  81.604873  7.628473  262.717340  rice"
      ]
     },
     "execution_count": 35,
     "metadata": {},
     "output_type": "execute_result"
    }
   ],
   "source": [
    "## let's check the head of the dataset\n",
    "data.head()"
   ]
  },
  {
   "cell_type": "code",
   "execution_count": 43,
   "metadata": {},
   "outputs": [
    {
     "name": "stdout",
     "output_type": "stream",
     "text": [
      "The Suggested Crop for given climatic condition is :  ['kidneybeans']\n"
     ]
    }
   ],
   "source": [
    "prediction = model.predict((np.array([[190,\n",
    "                                      410,\n",
    "                                      40,\n",
    "                                      9,\n",
    "                                      80,\n",
    "                                      7,\n",
    "                                      200]])))\n",
    "print(\"The Suggested Crop for given climatic condition is : \",prediction)"
   ]
  },
  {
   "cell_type": "code",
   "execution_count": null,
   "metadata": {},
   "outputs": [],
   "source": []
  },
  {
   "cell_type": "code",
   "execution_count": null,
   "metadata": {},
   "outputs": [],
   "source": []
  }
 ],
 "metadata": {
  "kernelspec": {
   "display_name": "Python 3",
   "language": "python",
   "name": "python3"
  },
  "language_info": {
   "codemirror_mode": {
    "name": "ipython",
    "version": 3
   },
   "file_extension": ".py",
   "mimetype": "text/x-python",
   "name": "python",
   "nbconvert_exporter": "python",
   "pygments_lexer": "ipython3",
   "version": "3.8.5"
  }
 },
 "nbformat": 4,
 "nbformat_minor": 4
}
